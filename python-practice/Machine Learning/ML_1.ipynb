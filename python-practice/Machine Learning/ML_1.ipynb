{
 "cells": [
  {
   "cell_type": "markdown",
   "id": "2ce19c10",
   "metadata": {},
   "source": [
    "# Simple Linear Regression using Iris Data set"
   ]
  },
  {
   "cell_type": "code",
   "execution_count": 105,
   "id": "05039d3b",
   "metadata": {},
   "outputs": [],
   "source": [
    "import numpy as np\n",
    "import pandas as pd\n",
    "import seaborn as sns\n",
    "import matplotlib.pyplot as plt\n",
    "from sklearn.model_selection import train_test_split\n",
    "from sklearn.linear_model import LinearRegression\n",
    "from sklearn.metrics import r2_score"
   ]
  },
  {
   "cell_type": "code",
   "execution_count": 106,
   "id": "dd88ce05",
   "metadata": {},
   "outputs": [
    {
     "data": {
      "text/html": [
       "<div>\n",
       "<style scoped>\n",
       "    .dataframe tbody tr th:only-of-type {\n",
       "        vertical-align: middle;\n",
       "    }\n",
       "\n",
       "    .dataframe tbody tr th {\n",
       "        vertical-align: top;\n",
       "    }\n",
       "\n",
       "    .dataframe thead th {\n",
       "        text-align: right;\n",
       "    }\n",
       "</style>\n",
       "<table border=\"1\" class=\"dataframe\">\n",
       "  <thead>\n",
       "    <tr style=\"text-align: right;\">\n",
       "      <th></th>\n",
       "      <th>sepal_length</th>\n",
       "      <th>sepal_width</th>\n",
       "      <th>petal_length</th>\n",
       "      <th>petal_width</th>\n",
       "      <th>species</th>\n",
       "    </tr>\n",
       "  </thead>\n",
       "  <tbody>\n",
       "    <tr>\n",
       "      <th>0</th>\n",
       "      <td>5.1</td>\n",
       "      <td>3.5</td>\n",
       "      <td>1.4</td>\n",
       "      <td>0.2</td>\n",
       "      <td>setosa</td>\n",
       "    </tr>\n",
       "    <tr>\n",
       "      <th>1</th>\n",
       "      <td>4.9</td>\n",
       "      <td>3.0</td>\n",
       "      <td>1.4</td>\n",
       "      <td>0.2</td>\n",
       "      <td>setosa</td>\n",
       "    </tr>\n",
       "    <tr>\n",
       "      <th>2</th>\n",
       "      <td>4.7</td>\n",
       "      <td>3.2</td>\n",
       "      <td>1.3</td>\n",
       "      <td>0.2</td>\n",
       "      <td>setosa</td>\n",
       "    </tr>\n",
       "    <tr>\n",
       "      <th>3</th>\n",
       "      <td>4.6</td>\n",
       "      <td>3.1</td>\n",
       "      <td>1.5</td>\n",
       "      <td>0.2</td>\n",
       "      <td>setosa</td>\n",
       "    </tr>\n",
       "    <tr>\n",
       "      <th>4</th>\n",
       "      <td>5.0</td>\n",
       "      <td>3.6</td>\n",
       "      <td>1.4</td>\n",
       "      <td>0.2</td>\n",
       "      <td>setosa</td>\n",
       "    </tr>\n",
       "  </tbody>\n",
       "</table>\n",
       "</div>"
      ],
      "text/plain": [
       "   sepal_length  sepal_width  petal_length  petal_width species\n",
       "0           5.1          3.5           1.4          0.2  setosa\n",
       "1           4.9          3.0           1.4          0.2  setosa\n",
       "2           4.7          3.2           1.3          0.2  setosa\n",
       "3           4.6          3.1           1.5          0.2  setosa\n",
       "4           5.0          3.6           1.4          0.2  setosa"
      ]
     },
     "execution_count": 106,
     "metadata": {},
     "output_type": "execute_result"
    }
   ],
   "source": [
    "iris_df = sns.load_dataset('iris')\n",
    "iris_df.head()"
   ]
  },
  {
   "cell_type": "code",
   "execution_count": 107,
   "id": "240a35ea",
   "metadata": {},
   "outputs": [
    {
     "data": {
      "text/html": [
       "<div>\n",
       "<style scoped>\n",
       "    .dataframe tbody tr th:only-of-type {\n",
       "        vertical-align: middle;\n",
       "    }\n",
       "\n",
       "    .dataframe tbody tr th {\n",
       "        vertical-align: top;\n",
       "    }\n",
       "\n",
       "    .dataframe thead th {\n",
       "        text-align: right;\n",
       "    }\n",
       "</style>\n",
       "<table border=\"1\" class=\"dataframe\">\n",
       "  <thead>\n",
       "    <tr style=\"text-align: right;\">\n",
       "      <th></th>\n",
       "      <th>sepal_length</th>\n",
       "      <th>sepal_width</th>\n",
       "      <th>petal_length</th>\n",
       "      <th>petal_width</th>\n",
       "    </tr>\n",
       "  </thead>\n",
       "  <tbody>\n",
       "    <tr>\n",
       "      <th>count</th>\n",
       "      <td>150.000000</td>\n",
       "      <td>150.000000</td>\n",
       "      <td>150.000000</td>\n",
       "      <td>150.000000</td>\n",
       "    </tr>\n",
       "    <tr>\n",
       "      <th>mean</th>\n",
       "      <td>5.843333</td>\n",
       "      <td>3.057333</td>\n",
       "      <td>3.758000</td>\n",
       "      <td>1.199333</td>\n",
       "    </tr>\n",
       "    <tr>\n",
       "      <th>std</th>\n",
       "      <td>0.828066</td>\n",
       "      <td>0.435866</td>\n",
       "      <td>1.765298</td>\n",
       "      <td>0.762238</td>\n",
       "    </tr>\n",
       "    <tr>\n",
       "      <th>min</th>\n",
       "      <td>4.300000</td>\n",
       "      <td>2.000000</td>\n",
       "      <td>1.000000</td>\n",
       "      <td>0.100000</td>\n",
       "    </tr>\n",
       "    <tr>\n",
       "      <th>25%</th>\n",
       "      <td>5.100000</td>\n",
       "      <td>2.800000</td>\n",
       "      <td>1.600000</td>\n",
       "      <td>0.300000</td>\n",
       "    </tr>\n",
       "    <tr>\n",
       "      <th>50%</th>\n",
       "      <td>5.800000</td>\n",
       "      <td>3.000000</td>\n",
       "      <td>4.350000</td>\n",
       "      <td>1.300000</td>\n",
       "    </tr>\n",
       "    <tr>\n",
       "      <th>75%</th>\n",
       "      <td>6.400000</td>\n",
       "      <td>3.300000</td>\n",
       "      <td>5.100000</td>\n",
       "      <td>1.800000</td>\n",
       "    </tr>\n",
       "    <tr>\n",
       "      <th>max</th>\n",
       "      <td>7.900000</td>\n",
       "      <td>4.400000</td>\n",
       "      <td>6.900000</td>\n",
       "      <td>2.500000</td>\n",
       "    </tr>\n",
       "  </tbody>\n",
       "</table>\n",
       "</div>"
      ],
      "text/plain": [
       "       sepal_length  sepal_width  petal_length  petal_width\n",
       "count    150.000000   150.000000    150.000000   150.000000\n",
       "mean       5.843333     3.057333      3.758000     1.199333\n",
       "std        0.828066     0.435866      1.765298     0.762238\n",
       "min        4.300000     2.000000      1.000000     0.100000\n",
       "25%        5.100000     2.800000      1.600000     0.300000\n",
       "50%        5.800000     3.000000      4.350000     1.300000\n",
       "75%        6.400000     3.300000      5.100000     1.800000\n",
       "max        7.900000     4.400000      6.900000     2.500000"
      ]
     },
     "execution_count": 107,
     "metadata": {},
     "output_type": "execute_result"
    }
   ],
   "source": [
    "iris_df.describe()"
   ]
  },
  {
   "cell_type": "code",
   "execution_count": 108,
   "id": "adddcca3",
   "metadata": {},
   "outputs": [],
   "source": [
    "test_iris = iris_df[['petal_length','petal_width']]"
   ]
  },
  {
   "cell_type": "code",
   "execution_count": 109,
   "id": "f9e610e0",
   "metadata": {},
   "outputs": [
    {
     "data": {
      "text/plain": [
       "petal_length    0\n",
       "petal_width     0\n",
       "dtype: int64"
      ]
     },
     "execution_count": 109,
     "metadata": {},
     "output_type": "execute_result"
    }
   ],
   "source": [
    "test_iris.isnull().sum()"
   ]
  },
  {
   "cell_type": "code",
   "execution_count": 110,
   "id": "f286dcdf",
   "metadata": {},
   "outputs": [],
   "source": [
    "x = test_iris['petal_length']\n",
    "y = test_iris['petal_width']"
   ]
  },
  {
   "cell_type": "code",
   "execution_count": 111,
   "id": "bb8015c6",
   "metadata": {},
   "outputs": [
    {
     "data": {
      "text/plain": [
       "0      1.4\n",
       "1      1.4\n",
       "2      1.3\n",
       "3      1.5\n",
       "4      1.4\n",
       "      ... \n",
       "145    5.2\n",
       "146    5.0\n",
       "147    5.2\n",
       "148    5.4\n",
       "149    5.1\n",
       "Name: petal_length, Length: 150, dtype: float64"
      ]
     },
     "execution_count": 111,
     "metadata": {},
     "output_type": "execute_result"
    }
   ],
   "source": [
    "x"
   ]
  },
  {
   "cell_type": "code",
   "execution_count": 112,
   "id": "eff69b0d",
   "metadata": {},
   "outputs": [
    {
     "data": {
      "text/plain": [
       "0      0.2\n",
       "1      0.2\n",
       "2      0.2\n",
       "3      0.2\n",
       "4      0.2\n",
       "      ... \n",
       "145    2.3\n",
       "146    1.9\n",
       "147    2.0\n",
       "148    2.3\n",
       "149    1.8\n",
       "Name: petal_width, Length: 150, dtype: float64"
      ]
     },
     "execution_count": 112,
     "metadata": {},
     "output_type": "execute_result"
    }
   ],
   "source": [
    "y"
   ]
  },
  {
   "cell_type": "code",
   "execution_count": 113,
   "id": "44953da7",
   "metadata": {},
   "outputs": [
    {
     "data": {
      "text/plain": [
       "Text(0, 0.5, 'petal width')"
      ]
     },
     "execution_count": 113,
     "metadata": {},
     "output_type": "execute_result"
    },
    {
     "data": {
      "image/png": "[encoded data removed]",
      "text/plain": [
       "<Figure size 640x480 with 1 Axes>"
      ]
     },
     "metadata": {},
     "output_type": "display_data"
    }
   ],
   "source": [
    "plt.scatter(x,y)\n",
    "plt.xlabel(\"petal length\")\n",
    "plt.ylabel(\"petal width\")"
   ]
  },
  {
   "cell_type": "code",
   "execution_count": 114,
   "id": "e33d8fef",
   "metadata": {},
   "outputs": [
    {
     "data": {
      "text/plain": [
       "77     5.0\n",
       "29     1.6\n",
       "92     4.0\n",
       "23     1.7\n",
       "128    5.6\n",
       "      ... \n",
       "39     1.5\n",
       "91     4.6\n",
       "31     1.5\n",
       "40     1.3\n",
       "83     5.1\n",
       "Name: petal_length, Length: 90, dtype: float64"
      ]
     },
     "execution_count": 114,
     "metadata": {},
     "output_type": "execute_result"
    }
   ],
   "source": [
    "x_train,x_test,y_train,y_test = train_test_split(x,y,test_size=0.4,random_state=23)\n",
    "x_train"
   ]
  },
  {
   "cell_type": "code",
   "execution_count": 115,
   "id": "57fdca26",
   "metadata": {},
   "outputs": [
    {
     "data": {
      "text/plain": [
       "60"
      ]
     },
     "execution_count": 115,
     "metadata": {},
     "output_type": "execute_result"
    }
   ],
   "source": [
    "x_test.count()"
   ]
  },
  {
   "cell_type": "code",
   "execution_count": 116,
   "id": "10def4ce",
   "metadata": {},
   "outputs": [],
   "source": [
    "x_train = np.array(x_train).reshape(-1,1)\n",
    "x_test = np.array(x_test).reshape(-1,1)"
   ]
  },
  {
   "cell_type": "code",
   "execution_count": 117,
   "id": "64a57e46",
   "metadata": {},
   "outputs": [
    {
     "name": "stdout",
     "output_type": "stream",
     "text": [
      "The intercept is -0.35113274221437507 the slope is [0.41684538]\n"
     ]
    }
   ],
   "source": [
    "lr = LinearRegression()\n",
    "lr.fit(x_train,y_train)\n",
    "c = lr.intercept_\n",
    "m = lr.coef_\n",
    "print (\"The intercept is\",c,\"the slope is\",m)"
   ]
  },
  {
   "cell_type": "code",
   "execution_count": 118,
   "id": "1b2a9ccb",
   "metadata": {},
   "outputs": [
    {
     "data": {
      "text/plain": [
       "array([1.73309416, 0.31581987, 1.31624878, 0.3575044 , 1.98320139,\n",
       "       1.31624878, 1.64972508, 1.98320139, 1.7747787 , 1.69140962,\n",
       "       0.23245079, 0.31581987, 1.98320139, 0.23245079, 0.31581987,\n",
       "       1.94151685, 1.7747787 , 1.31624878, 0.23245079, 1.35793332,\n",
       "       1.85814777, 1.52467147, 2.06657046, 2.40004677, 1.44130239,\n",
       "       0.19076625, 1.31624878, 1.69140962, 1.69140962, 1.31624878,\n",
       "       0.27413533, 1.52467147, 1.52467147, 1.27456424, 1.73309416,\n",
       "       1.64972508, 1.2328797 , 1.7747787 , 2.27499315, 2.19162408,\n",
       "       0.14908171, 2.02488593, 0.8994034 , 0.27413533, 2.108255  ,\n",
       "       1.64972508, 0.23245079, 1.52467147, 1.39961786, 1.81646324,\n",
       "       0.19076625, 0.06571264, 1.10782609, 0.10739718, 1.60804055,\n",
       "       1.39961786, 0.14908171, 2.06657046, 1.44130239, 1.52467147,\n",
       "       0.31581987, 2.52510038, 1.56635601, 1.7747787 , 1.98320139,\n",
       "       1.60804055, 0.27413533, 0.31581987, 1.94151685, 2.06657046,\n",
       "       1.48298693, 0.19076625, 1.81646324, 1.02445701, 2.02488593,\n",
       "       1.10782609, 0.19076625, 0.27413533, 0.27413533, 1.7747787 ,\n",
       "       0.23245079, 0.23245079, 1.69140962, 0.23245079, 1.48298693,\n",
       "       0.27413533, 1.56635601, 0.27413533, 0.19076625, 1.7747787 ])"
      ]
     },
     "execution_count": 118,
     "metadata": {},
     "output_type": "execute_result"
    }
   ],
   "source": [
    "y_pred_train = lr.predict(x_train)\n",
    "y_pred_train"
   ]
  },
  {
   "cell_type": "code",
   "execution_count": 119,
   "id": "af1d1e2b",
   "metadata": {},
   "outputs": [
    {
     "data": {
      "text/plain": [
       "Text(0, 0.5, 'Petal width')"
      ]
     },
     "execution_count": 119,
     "metadata": {},
     "output_type": "execute_result"
    },
    {
     "data": {
      "image/png": "[encoded data removed]",
      "text/plain": [
       "<Figure size 640x480 with 1 Axes>"
      ]
     },
     "metadata": {},
     "output_type": "display_data"
    }
   ],
   "source": [
    "plt.scatter(x_train,y_train)\n",
    "plt.plot(x_train,y_pred_train, color='red')\n",
    "plt.xlabel(\"Petal length\")\n",
    "plt.ylabel(\"Petal width\")"
   ]
  },
  {
   "cell_type": "code",
   "execution_count": 120,
   "id": "b93f1a03",
   "metadata": {},
   "outputs": [
    {
     "data": {
      "text/plain": [
       "array([1.89983231, 2.14993954, 1.35793332, 0.27413533, 1.73309416,\n",
       "       1.69140962, 0.3575044 , 1.94151685, 0.3575044 , 1.14951063,\n",
       "       1.60804055, 0.31581987, 2.108255  , 0.27413533, 0.27413533,\n",
       "       1.7747787 , 1.52467147, 1.60804055, 2.19162408, 0.23245079,\n",
       "       1.85814777, 0.23245079, 0.31581987, 0.19076625, 1.98320139,\n",
       "       0.23245079, 0.44087348, 1.64972508, 1.48298693, 1.27456424,\n",
       "       0.27413533, 1.27456424, 0.19076625, 2.44173131, 0.27413533,\n",
       "       0.3575044 , 1.56635601, 1.02445701, 1.39961786, 2.14993954,\n",
       "       2.02488593, 0.44087348, 1.19119517, 0.23245079, 1.48298693,\n",
       "       1.73309416, 1.52467147, 2.31667769, 0.27413533, 1.35793332,\n",
       "       2.19162408, 1.89983231, 0.23245079, 1.98320139, 1.52467147,\n",
       "       1.60804055, 2.44173131, 1.39961786, 0.23245079, 1.7747787 ])"
      ]
     },
     "execution_count": 120,
     "metadata": {},
     "output_type": "execute_result"
    }
   ],
   "source": [
    "y_pred_train1 = lr.predict(x_test)\n",
    "y_pred_train1"
   ]
  },
  {
   "cell_type": "code",
   "execution_count": 121,
   "id": "816673cf",
   "metadata": {},
   "outputs": [
    {
     "data": {
      "text/plain": [
       "Text(0, 0.5, 'Petal width')"
      ]
     },
     "execution_count": 121,
     "metadata": {},
     "output_type": "execute_result"
    },
    {
     "data": {
      "image/png": "[encoded data removed]",
      "text/plain": [
       "<Figure size 640x480 with 1 Axes>"
      ]
     },
     "metadata": {},
     "output_type": "display_data"
    }
   ],
   "source": [
    "plt.scatter(x_test,y_test)\n",
    "plt.plot(x_test,y_pred_train1, color='red')\n",
    "plt.xlabel(\"Petal length\")\n",
    "plt.ylabel(\"Petal width\")"
   ]
  },
  {
   "cell_type": "markdown",
   "id": "9d3f1e94",
   "metadata": {},
   "source": [
    "# Multiple regression"
   ]
  },
  {
   "cell_type": "code",
   "execution_count": 122,
   "id": "023998cb",
   "metadata": {},
   "outputs": [
    {
     "data": {
      "text/html": [
       "<div>\n",
       "<style scoped>\n",
       "    .dataframe tbody tr th:only-of-type {\n",
       "        vertical-align: middle;\n",
       "    }\n",
       "\n",
       "    .dataframe tbody tr th {\n",
       "        vertical-align: top;\n",
       "    }\n",
       "\n",
       "    .dataframe thead th {\n",
       "        text-align: right;\n",
       "    }\n",
       "</style>\n",
       "<table border=\"1\" class=\"dataframe\">\n",
       "  <thead>\n",
       "    <tr style=\"text-align: right;\">\n",
       "      <th></th>\n",
       "      <th>age</th>\n",
       "      <th>sex</th>\n",
       "      <th>bmi</th>\n",
       "      <th>children</th>\n",
       "      <th>smoker</th>\n",
       "      <th>region</th>\n",
       "      <th>charges</th>\n",
       "    </tr>\n",
       "  </thead>\n",
       "  <tbody>\n",
       "    <tr>\n",
       "      <th>0</th>\n",
       "      <td>19</td>\n",
       "      <td>female</td>\n",
       "      <td>27.900</td>\n",
       "      <td>0</td>\n",
       "      <td>yes</td>\n",
       "      <td>southwest</td>\n",
       "      <td>16884.92400</td>\n",
       "    </tr>\n",
       "    <tr>\n",
       "      <th>1</th>\n",
       "      <td>18</td>\n",
       "      <td>male</td>\n",
       "      <td>33.770</td>\n",
       "      <td>1</td>\n",
       "      <td>no</td>\n",
       "      <td>southeast</td>\n",
       "      <td>1725.55230</td>\n",
       "    </tr>\n",
       "    <tr>\n",
       "      <th>2</th>\n",
       "      <td>28</td>\n",
       "      <td>male</td>\n",
       "      <td>33.000</td>\n",
       "      <td>3</td>\n",
       "      <td>no</td>\n",
       "      <td>southeast</td>\n",
       "      <td>4449.46200</td>\n",
       "    </tr>\n",
       "    <tr>\n",
       "      <th>3</th>\n",
       "      <td>33</td>\n",
       "      <td>male</td>\n",
       "      <td>22.705</td>\n",
       "      <td>0</td>\n",
       "      <td>no</td>\n",
       "      <td>northwest</td>\n",
       "      <td>21984.47061</td>\n",
       "    </tr>\n",
       "    <tr>\n",
       "      <th>4</th>\n",
       "      <td>32</td>\n",
       "      <td>male</td>\n",
       "      <td>28.880</td>\n",
       "      <td>0</td>\n",
       "      <td>no</td>\n",
       "      <td>northwest</td>\n",
       "      <td>3866.85520</td>\n",
       "    </tr>\n",
       "    <tr>\n",
       "      <th>...</th>\n",
       "      <td>...</td>\n",
       "      <td>...</td>\n",
       "      <td>...</td>\n",
       "      <td>...</td>\n",
       "      <td>...</td>\n",
       "      <td>...</td>\n",
       "      <td>...</td>\n",
       "    </tr>\n",
       "    <tr>\n",
       "      <th>1333</th>\n",
       "      <td>50</td>\n",
       "      <td>male</td>\n",
       "      <td>30.970</td>\n",
       "      <td>3</td>\n",
       "      <td>no</td>\n",
       "      <td>northwest</td>\n",
       "      <td>10600.54830</td>\n",
       "    </tr>\n",
       "    <tr>\n",
       "      <th>1334</th>\n",
       "      <td>18</td>\n",
       "      <td>female</td>\n",
       "      <td>31.920</td>\n",
       "      <td>0</td>\n",
       "      <td>no</td>\n",
       "      <td>northeast</td>\n",
       "      <td>2205.98080</td>\n",
       "    </tr>\n",
       "    <tr>\n",
       "      <th>1335</th>\n",
       "      <td>18</td>\n",
       "      <td>female</td>\n",
       "      <td>36.850</td>\n",
       "      <td>0</td>\n",
       "      <td>no</td>\n",
       "      <td>southeast</td>\n",
       "      <td>1629.83350</td>\n",
       "    </tr>\n",
       "    <tr>\n",
       "      <th>1336</th>\n",
       "      <td>21</td>\n",
       "      <td>female</td>\n",
       "      <td>25.800</td>\n",
       "      <td>0</td>\n",
       "      <td>no</td>\n",
       "      <td>southwest</td>\n",
       "      <td>2007.94500</td>\n",
       "    </tr>\n",
       "    <tr>\n",
       "      <th>1337</th>\n",
       "      <td>61</td>\n",
       "      <td>female</td>\n",
       "      <td>29.070</td>\n",
       "      <td>0</td>\n",
       "      <td>yes</td>\n",
       "      <td>northwest</td>\n",
       "      <td>29141.36030</td>\n",
       "    </tr>\n",
       "  </tbody>\n",
       "</table>\n",
       "<p>1338 rows × 7 columns</p>\n",
       "</div>"
      ],
      "text/plain": [
       "      age     sex     bmi  children smoker     region      charges\n",
       "0      19  female  27.900         0    yes  southwest  16884.92400\n",
       "1      18    male  33.770         1     no  southeast   1725.55230\n",
       "2      28    male  33.000         3     no  southeast   4449.46200\n",
       "3      33    male  22.705         0     no  northwest  21984.47061\n",
       "4      32    male  28.880         0     no  northwest   3866.85520\n",
       "...   ...     ...     ...       ...    ...        ...          ...\n",
       "1333   50    male  30.970         3     no  northwest  10600.54830\n",
       "1334   18  female  31.920         0     no  northeast   2205.98080\n",
       "1335   18  female  36.850         0     no  southeast   1629.83350\n",
       "1336   21  female  25.800         0     no  southwest   2007.94500\n",
       "1337   61  female  29.070         0    yes  northwest  29141.36030\n",
       "\n",
       "[1338 rows x 7 columns]"
      ]
     },
     "execution_count": 122,
     "metadata": {},
     "output_type": "execute_result"
    }
   ],
   "source": [
    "insurance_df = pd.read_csv(\"../Dataset/insurance.csv\")\n",
    "insurance_df"
   ]
  },
  {
   "cell_type": "code",
   "execution_count": 123,
   "id": "f4920696",
   "metadata": {},
   "outputs": [
    {
     "data": {
      "text/html": [
       "<div>\n",
       "<style scoped>\n",
       "    .dataframe tbody tr th:only-of-type {\n",
       "        vertical-align: middle;\n",
       "    }\n",
       "\n",
       "    .dataframe tbody tr th {\n",
       "        vertical-align: top;\n",
       "    }\n",
       "\n",
       "    .dataframe thead th {\n",
       "        text-align: right;\n",
       "    }\n",
       "</style>\n",
       "<table border=\"1\" class=\"dataframe\">\n",
       "  <thead>\n",
       "    <tr style=\"text-align: right;\">\n",
       "      <th></th>\n",
       "      <th>age</th>\n",
       "      <th>sex</th>\n",
       "      <th>bmi</th>\n",
       "      <th>children</th>\n",
       "      <th>smoker</th>\n",
       "      <th>region</th>\n",
       "      <th>charges</th>\n",
       "    </tr>\n",
       "  </thead>\n",
       "  <tbody>\n",
       "    <tr>\n",
       "      <th>0</th>\n",
       "      <td>19</td>\n",
       "      <td>female</td>\n",
       "      <td>27.900</td>\n",
       "      <td>0</td>\n",
       "      <td>yes</td>\n",
       "      <td>southwest</td>\n",
       "      <td>16884.92400</td>\n",
       "    </tr>\n",
       "    <tr>\n",
       "      <th>1</th>\n",
       "      <td>18</td>\n",
       "      <td>male</td>\n",
       "      <td>33.770</td>\n",
       "      <td>1</td>\n",
       "      <td>no</td>\n",
       "      <td>southeast</td>\n",
       "      <td>1725.55230</td>\n",
       "    </tr>\n",
       "    <tr>\n",
       "      <th>2</th>\n",
       "      <td>28</td>\n",
       "      <td>male</td>\n",
       "      <td>33.000</td>\n",
       "      <td>3</td>\n",
       "      <td>no</td>\n",
       "      <td>southeast</td>\n",
       "      <td>4449.46200</td>\n",
       "    </tr>\n",
       "    <tr>\n",
       "      <th>3</th>\n",
       "      <td>33</td>\n",
       "      <td>male</td>\n",
       "      <td>22.705</td>\n",
       "      <td>0</td>\n",
       "      <td>no</td>\n",
       "      <td>northwest</td>\n",
       "      <td>21984.47061</td>\n",
       "    </tr>\n",
       "    <tr>\n",
       "      <th>4</th>\n",
       "      <td>32</td>\n",
       "      <td>male</td>\n",
       "      <td>28.880</td>\n",
       "      <td>0</td>\n",
       "      <td>no</td>\n",
       "      <td>northwest</td>\n",
       "      <td>3866.85520</td>\n",
       "    </tr>\n",
       "  </tbody>\n",
       "</table>\n",
       "</div>"
      ],
      "text/plain": [
       "   age     sex     bmi  children smoker     region      charges\n",
       "0   19  female  27.900         0    yes  southwest  16884.92400\n",
       "1   18    male  33.770         1     no  southeast   1725.55230\n",
       "2   28    male  33.000         3     no  southeast   4449.46200\n",
       "3   33    male  22.705         0     no  northwest  21984.47061\n",
       "4   32    male  28.880         0     no  northwest   3866.85520"
      ]
     },
     "execution_count": 123,
     "metadata": {},
     "output_type": "execute_result"
    }
   ],
   "source": [
    "insurance_df.head()"
   ]
  },
  {
   "cell_type": "code",
   "execution_count": 124,
   "id": "e629025d",
   "metadata": {},
   "outputs": [
    {
     "data": {
      "text/html": [
       "<div>\n",
       "<style scoped>\n",
       "    .dataframe tbody tr th:only-of-type {\n",
       "        vertical-align: middle;\n",
       "    }\n",
       "\n",
       "    .dataframe tbody tr th {\n",
       "        vertical-align: top;\n",
       "    }\n",
       "\n",
       "    .dataframe thead th {\n",
       "        text-align: right;\n",
       "    }\n",
       "</style>\n",
       "<table border=\"1\" class=\"dataframe\">\n",
       "  <thead>\n",
       "    <tr style=\"text-align: right;\">\n",
       "      <th></th>\n",
       "      <th>age</th>\n",
       "      <th>bmi</th>\n",
       "      <th>children</th>\n",
       "      <th>charges</th>\n",
       "    </tr>\n",
       "  </thead>\n",
       "  <tbody>\n",
       "    <tr>\n",
       "      <th>count</th>\n",
       "      <td>1338.000000</td>\n",
       "      <td>1338.000000</td>\n",
       "      <td>1338.000000</td>\n",
       "      <td>1338.000000</td>\n",
       "    </tr>\n",
       "    <tr>\n",
       "      <th>mean</th>\n",
       "      <td>39.207025</td>\n",
       "      <td>30.663397</td>\n",
       "      <td>1.094918</td>\n",
       "      <td>13270.422265</td>\n",
       "    </tr>\n",
       "    <tr>\n",
       "      <th>std</th>\n",
       "      <td>14.049960</td>\n",
       "      <td>6.098187</td>\n",
       "      <td>1.205493</td>\n",
       "      <td>12110.011237</td>\n",
       "    </tr>\n",
       "    <tr>\n",
       "      <th>min</th>\n",
       "      <td>18.000000</td>\n",
       "      <td>15.960000</td>\n",
       "      <td>0.000000</td>\n",
       "      <td>1121.873900</td>\n",
       "    </tr>\n",
       "    <tr>\n",
       "      <th>25%</th>\n",
       "      <td>27.000000</td>\n",
       "      <td>26.296250</td>\n",
       "      <td>0.000000</td>\n",
       "      <td>4740.287150</td>\n",
       "    </tr>\n",
       "    <tr>\n",
       "      <th>50%</th>\n",
       "      <td>39.000000</td>\n",
       "      <td>30.400000</td>\n",
       "      <td>1.000000</td>\n",
       "      <td>9382.033000</td>\n",
       "    </tr>\n",
       "    <tr>\n",
       "      <th>75%</th>\n",
       "      <td>51.000000</td>\n",
       "      <td>34.693750</td>\n",
       "      <td>2.000000</td>\n",
       "      <td>16639.912515</td>\n",
       "    </tr>\n",
       "    <tr>\n",
       "      <th>max</th>\n",
       "      <td>64.000000</td>\n",
       "      <td>53.130000</td>\n",
       "      <td>5.000000</td>\n",
       "      <td>63770.428010</td>\n",
       "    </tr>\n",
       "  </tbody>\n",
       "</table>\n",
       "</div>"
      ],
      "text/plain": [
       "               age          bmi     children       charges\n",
       "count  1338.000000  1338.000000  1338.000000   1338.000000\n",
       "mean     39.207025    30.663397     1.094918  13270.422265\n",
       "std      14.049960     6.098187     1.205493  12110.011237\n",
       "min      18.000000    15.960000     0.000000   1121.873900\n",
       "25%      27.000000    26.296250     0.000000   4740.287150\n",
       "50%      39.000000    30.400000     1.000000   9382.033000\n",
       "75%      51.000000    34.693750     2.000000  16639.912515\n",
       "max      64.000000    53.130000     5.000000  63770.428010"
      ]
     },
     "execution_count": 124,
     "metadata": {},
     "output_type": "execute_result"
    }
   ],
   "source": [
    "insurance_df.describe()"
   ]
  },
  {
   "cell_type": "code",
   "execution_count": 125,
   "id": "e681ff03",
   "metadata": {},
   "outputs": [],
   "source": [
    "a = insurance_df['sex'].unique()\n",
    "b = insurance_df['smoker'].unique()\n",
    "c = insurance_df['region'].unique()"
   ]
  },
  {
   "cell_type": "code",
   "execution_count": 126,
   "id": "374a7667",
   "metadata": {},
   "outputs": [],
   "source": [
    "insurance_df['sex'] = insurance_df['sex'].astype('category').cat.codes\n",
    "insurance_df['smoker'] = insurance_df['smoker'].astype('category').cat.codes\n",
    "insurance_df['region'] = insurance_df['region'].astype('category').cat.codes\n"
   ]
  },
  {
   "cell_type": "code",
   "execution_count": 127,
   "id": "911bccc8",
   "metadata": {},
   "outputs": [
    {
     "data": {
      "text/html": [
       "<div>\n",
       "<style scoped>\n",
       "    .dataframe tbody tr th:only-of-type {\n",
       "        vertical-align: middle;\n",
       "    }\n",
       "\n",
       "    .dataframe tbody tr th {\n",
       "        vertical-align: top;\n",
       "    }\n",
       "\n",
       "    .dataframe thead th {\n",
       "        text-align: right;\n",
       "    }\n",
       "</style>\n",
       "<table border=\"1\" class=\"dataframe\">\n",
       "  <thead>\n",
       "    <tr style=\"text-align: right;\">\n",
       "      <th></th>\n",
       "      <th>age</th>\n",
       "      <th>sex</th>\n",
       "      <th>bmi</th>\n",
       "      <th>children</th>\n",
       "      <th>smoker</th>\n",
       "      <th>region</th>\n",
       "      <th>charges</th>\n",
       "    </tr>\n",
       "  </thead>\n",
       "  <tbody>\n",
       "    <tr>\n",
       "      <th>0</th>\n",
       "      <td>19</td>\n",
       "      <td>0</td>\n",
       "      <td>27.900</td>\n",
       "      <td>0</td>\n",
       "      <td>1</td>\n",
       "      <td>3</td>\n",
       "      <td>16884.92400</td>\n",
       "    </tr>\n",
       "    <tr>\n",
       "      <th>1</th>\n",
       "      <td>18</td>\n",
       "      <td>1</td>\n",
       "      <td>33.770</td>\n",
       "      <td>1</td>\n",
       "      <td>0</td>\n",
       "      <td>2</td>\n",
       "      <td>1725.55230</td>\n",
       "    </tr>\n",
       "    <tr>\n",
       "      <th>2</th>\n",
       "      <td>28</td>\n",
       "      <td>1</td>\n",
       "      <td>33.000</td>\n",
       "      <td>3</td>\n",
       "      <td>0</td>\n",
       "      <td>2</td>\n",
       "      <td>4449.46200</td>\n",
       "    </tr>\n",
       "    <tr>\n",
       "      <th>3</th>\n",
       "      <td>33</td>\n",
       "      <td>1</td>\n",
       "      <td>22.705</td>\n",
       "      <td>0</td>\n",
       "      <td>0</td>\n",
       "      <td>1</td>\n",
       "      <td>21984.47061</td>\n",
       "    </tr>\n",
       "    <tr>\n",
       "      <th>4</th>\n",
       "      <td>32</td>\n",
       "      <td>1</td>\n",
       "      <td>28.880</td>\n",
       "      <td>0</td>\n",
       "      <td>0</td>\n",
       "      <td>1</td>\n",
       "      <td>3866.85520</td>\n",
       "    </tr>\n",
       "    <tr>\n",
       "      <th>...</th>\n",
       "      <td>...</td>\n",
       "      <td>...</td>\n",
       "      <td>...</td>\n",
       "      <td>...</td>\n",
       "      <td>...</td>\n",
       "      <td>...</td>\n",
       "      <td>...</td>\n",
       "    </tr>\n",
       "    <tr>\n",
       "      <th>1333</th>\n",
       "      <td>50</td>\n",
       "      <td>1</td>\n",
       "      <td>30.970</td>\n",
       "      <td>3</td>\n",
       "      <td>0</td>\n",
       "      <td>1</td>\n",
       "      <td>10600.54830</td>\n",
       "    </tr>\n",
       "    <tr>\n",
       "      <th>1334</th>\n",
       "      <td>18</td>\n",
       "      <td>0</td>\n",
       "      <td>31.920</td>\n",
       "      <td>0</td>\n",
       "      <td>0</td>\n",
       "      <td>0</td>\n",
       "      <td>2205.98080</td>\n",
       "    </tr>\n",
       "    <tr>\n",
       "      <th>1335</th>\n",
       "      <td>18</td>\n",
       "      <td>0</td>\n",
       "      <td>36.850</td>\n",
       "      <td>0</td>\n",
       "      <td>0</td>\n",
       "      <td>2</td>\n",
       "      <td>1629.83350</td>\n",
       "    </tr>\n",
       "    <tr>\n",
       "      <th>1336</th>\n",
       "      <td>21</td>\n",
       "      <td>0</td>\n",
       "      <td>25.800</td>\n",
       "      <td>0</td>\n",
       "      <td>0</td>\n",
       "      <td>3</td>\n",
       "      <td>2007.94500</td>\n",
       "    </tr>\n",
       "    <tr>\n",
       "      <th>1337</th>\n",
       "      <td>61</td>\n",
       "      <td>0</td>\n",
       "      <td>29.070</td>\n",
       "      <td>0</td>\n",
       "      <td>1</td>\n",
       "      <td>1</td>\n",
       "      <td>29141.36030</td>\n",
       "    </tr>\n",
       "  </tbody>\n",
       "</table>\n",
       "<p>1338 rows × 7 columns</p>\n",
       "</div>"
      ],
      "text/plain": [
       "      age  sex     bmi  children  smoker  region      charges\n",
       "0      19    0  27.900         0       1       3  16884.92400\n",
       "1      18    1  33.770         1       0       2   1725.55230\n",
       "2      28    1  33.000         3       0       2   4449.46200\n",
       "3      33    1  22.705         0       0       1  21984.47061\n",
       "4      32    1  28.880         0       0       1   3866.85520\n",
       "...   ...  ...     ...       ...     ...     ...          ...\n",
       "1333   50    1  30.970         3       0       1  10600.54830\n",
       "1334   18    0  31.920         0       0       0   2205.98080\n",
       "1335   18    0  36.850         0       0       2   1629.83350\n",
       "1336   21    0  25.800         0       0       3   2007.94500\n",
       "1337   61    0  29.070         0       1       1  29141.36030\n",
       "\n",
       "[1338 rows x 7 columns]"
      ]
     },
     "execution_count": 127,
     "metadata": {},
     "output_type": "execute_result"
    }
   ],
   "source": [
    "insurance_df"
   ]
  },
  {
   "cell_type": "code",
   "execution_count": 128,
   "id": "ed0d929b",
   "metadata": {},
   "outputs": [
    {
     "data": {
      "text/plain": [
       "age         0\n",
       "sex         0\n",
       "bmi         0\n",
       "children    0\n",
       "smoker      0\n",
       "region      0\n",
       "charges     0\n",
       "dtype: int64"
      ]
     },
     "execution_count": 128,
     "metadata": {},
     "output_type": "execute_result"
    }
   ],
   "source": [
    "insurance_df.isnull().sum()"
   ]
  },
  {
   "cell_type": "code",
   "execution_count": 129,
   "id": "722870c5",
   "metadata": {},
   "outputs": [],
   "source": [
    "x = insurance_df.drop(columns ='charges')\n",
    "y = insurance_df['charges']"
   ]
  },
  {
   "cell_type": "code",
   "execution_count": 130,
   "id": "b23cfcf9",
   "metadata": {},
   "outputs": [
    {
     "data": {
      "text/html": [
       "<div>\n",
       "<style scoped>\n",
       "    .dataframe tbody tr th:only-of-type {\n",
       "        vertical-align: middle;\n",
       "    }\n",
       "\n",
       "    .dataframe tbody tr th {\n",
       "        vertical-align: top;\n",
       "    }\n",
       "\n",
       "    .dataframe thead th {\n",
       "        text-align: right;\n",
       "    }\n",
       "</style>\n",
       "<table border=\"1\" class=\"dataframe\">\n",
       "  <thead>\n",
       "    <tr style=\"text-align: right;\">\n",
       "      <th></th>\n",
       "      <th>age</th>\n",
       "      <th>sex</th>\n",
       "      <th>bmi</th>\n",
       "      <th>children</th>\n",
       "      <th>smoker</th>\n",
       "      <th>region</th>\n",
       "    </tr>\n",
       "  </thead>\n",
       "  <tbody>\n",
       "    <tr>\n",
       "      <th>0</th>\n",
       "      <td>19</td>\n",
       "      <td>0</td>\n",
       "      <td>27.900</td>\n",
       "      <td>0</td>\n",
       "      <td>1</td>\n",
       "      <td>3</td>\n",
       "    </tr>\n",
       "    <tr>\n",
       "      <th>1</th>\n",
       "      <td>18</td>\n",
       "      <td>1</td>\n",
       "      <td>33.770</td>\n",
       "      <td>1</td>\n",
       "      <td>0</td>\n",
       "      <td>2</td>\n",
       "    </tr>\n",
       "    <tr>\n",
       "      <th>2</th>\n",
       "      <td>28</td>\n",
       "      <td>1</td>\n",
       "      <td>33.000</td>\n",
       "      <td>3</td>\n",
       "      <td>0</td>\n",
       "      <td>2</td>\n",
       "    </tr>\n",
       "    <tr>\n",
       "      <th>3</th>\n",
       "      <td>33</td>\n",
       "      <td>1</td>\n",
       "      <td>22.705</td>\n",
       "      <td>0</td>\n",
       "      <td>0</td>\n",
       "      <td>1</td>\n",
       "    </tr>\n",
       "    <tr>\n",
       "      <th>4</th>\n",
       "      <td>32</td>\n",
       "      <td>1</td>\n",
       "      <td>28.880</td>\n",
       "      <td>0</td>\n",
       "      <td>0</td>\n",
       "      <td>1</td>\n",
       "    </tr>\n",
       "    <tr>\n",
       "      <th>...</th>\n",
       "      <td>...</td>\n",
       "      <td>...</td>\n",
       "      <td>...</td>\n",
       "      <td>...</td>\n",
       "      <td>...</td>\n",
       "      <td>...</td>\n",
       "    </tr>\n",
       "    <tr>\n",
       "      <th>1333</th>\n",
       "      <td>50</td>\n",
       "      <td>1</td>\n",
       "      <td>30.970</td>\n",
       "      <td>3</td>\n",
       "      <td>0</td>\n",
       "      <td>1</td>\n",
       "    </tr>\n",
       "    <tr>\n",
       "      <th>1334</th>\n",
       "      <td>18</td>\n",
       "      <td>0</td>\n",
       "      <td>31.920</td>\n",
       "      <td>0</td>\n",
       "      <td>0</td>\n",
       "      <td>0</td>\n",
       "    </tr>\n",
       "    <tr>\n",
       "      <th>1335</th>\n",
       "      <td>18</td>\n",
       "      <td>0</td>\n",
       "      <td>36.850</td>\n",
       "      <td>0</td>\n",
       "      <td>0</td>\n",
       "      <td>2</td>\n",
       "    </tr>\n",
       "    <tr>\n",
       "      <th>1336</th>\n",
       "      <td>21</td>\n",
       "      <td>0</td>\n",
       "      <td>25.800</td>\n",
       "      <td>0</td>\n",
       "      <td>0</td>\n",
       "      <td>3</td>\n",
       "    </tr>\n",
       "    <tr>\n",
       "      <th>1337</th>\n",
       "      <td>61</td>\n",
       "      <td>0</td>\n",
       "      <td>29.070</td>\n",
       "      <td>0</td>\n",
       "      <td>1</td>\n",
       "      <td>1</td>\n",
       "    </tr>\n",
       "  </tbody>\n",
       "</table>\n",
       "<p>1338 rows × 6 columns</p>\n",
       "</div>"
      ],
      "text/plain": [
       "      age  sex     bmi  children  smoker  region\n",
       "0      19    0  27.900         0       1       3\n",
       "1      18    1  33.770         1       0       2\n",
       "2      28    1  33.000         3       0       2\n",
       "3      33    1  22.705         0       0       1\n",
       "4      32    1  28.880         0       0       1\n",
       "...   ...  ...     ...       ...     ...     ...\n",
       "1333   50    1  30.970         3       0       1\n",
       "1334   18    0  31.920         0       0       0\n",
       "1335   18    0  36.850         0       0       2\n",
       "1336   21    0  25.800         0       0       3\n",
       "1337   61    0  29.070         0       1       1\n",
       "\n",
       "[1338 rows x 6 columns]"
      ]
     },
     "execution_count": 130,
     "metadata": {},
     "output_type": "execute_result"
    }
   ],
   "source": [
    "x"
   ]
  },
  {
   "cell_type": "code",
   "execution_count": 131,
   "id": "cdd3c2eb",
   "metadata": {},
   "outputs": [
    {
     "data": {
      "text/plain": [
       "0       16884.92400\n",
       "1        1725.55230\n",
       "2        4449.46200\n",
       "3       21984.47061\n",
       "4        3866.85520\n",
       "           ...     \n",
       "1333    10600.54830\n",
       "1334     2205.98080\n",
       "1335     1629.83350\n",
       "1336     2007.94500\n",
       "1337    29141.36030\n",
       "Name: charges, Length: 1338, dtype: float64"
      ]
     },
     "execution_count": 131,
     "metadata": {},
     "output_type": "execute_result"
    }
   ],
   "source": [
    "y"
   ]
  },
  {
   "cell_type": "code",
   "execution_count": 132,
   "id": "3a163e49",
   "metadata": {},
   "outputs": [
    {
     "data": {
      "text/html": [
       "<style>#sk-container-id-2 {color: black;}#sk-container-id-2 pre{padding: 0;}#sk-container-id-2 div.sk-toggleable {background-color: white;}#sk-container-id-2 label.sk-toggleable__label {cursor: pointer;display: block;width: 100%;margin-bottom: 0;padding: 0.3em;box-sizing: border-box;text-align: center;}#sk-container-id-2 label.sk-toggleable__label-arrow:before {content: \"▸\";float: left;margin-right: 0.25em;color: #696969;}#sk-container-id-2 label.sk-toggleable__label-arrow:hover:before {color: black;}#sk-container-id-2 div.sk-estimator:hover label.sk-toggleable__label-arrow:before {color: black;}#sk-container-id-2 div.sk-toggleable__content {max-height: 0;max-width: 0;overflow: hidden;text-align: left;background-color: #f0f8ff;}#sk-container-id-2 div.sk-toggleable__content pre {margin: 0.2em;color: black;border-radius: 0.25em;background-color: #f0f8ff;}#sk-container-id-2 input.sk-toggleable__control:checked~div.sk-toggleable__content {max-height: 200px;max-width: 100%;overflow: auto;}#sk-container-id-2 input.sk-toggleable__control:checked~label.sk-toggleable__label-arrow:before {content: \"▾\";}#sk-container-id-2 div.sk-estimator input.sk-toggleable__control:checked~label.sk-toggleable__label {background-color: #d4ebff;}#sk-container-id-2 div.sk-label input.sk-toggleable__control:checked~label.sk-toggleable__label {background-color: #d4ebff;}#sk-container-id-2 input.sk-hidden--visually {border: 0;clip: rect(1px 1px 1px 1px);clip: rect(1px, 1px, 1px, 1px);height: 1px;margin: -1px;overflow: hidden;padding: 0;position: absolute;width: 1px;}#sk-container-id-2 div.sk-estimator {font-family: monospace;background-color: #f0f8ff;border: 1px dotted black;border-radius: 0.25em;box-sizing: border-box;margin-bottom: 0.5em;}#sk-container-id-2 div.sk-estimator:hover {background-color: #d4ebff;}#sk-container-id-2 div.sk-parallel-item::after {content: \"\";width: 100%;border-bottom: 1px solid gray;flex-grow: 1;}#sk-container-id-2 div.sk-label:hover label.sk-toggleable__label {background-color: #d4ebff;}#sk-container-id-2 div.sk-serial::before {content: \"\";position: absolute;border-left: 1px solid gray;box-sizing: border-box;top: 0;bottom: 0;left: 50%;z-index: 0;}#sk-container-id-2 div.sk-serial {display: flex;flex-direction: column;align-items: center;background-color: white;padding-right: 0.2em;padding-left: 0.2em;position: relative;}#sk-container-id-2 div.sk-item {position: relative;z-index: 1;}#sk-container-id-2 div.sk-parallel {display: flex;align-items: stretch;justify-content: center;background-color: white;position: relative;}#sk-container-id-2 div.sk-item::before, #sk-container-id-2 div.sk-parallel-item::before {content: \"\";position: absolute;border-left: 1px solid gray;box-sizing: border-box;top: 0;bottom: 0;left: 50%;z-index: -1;}#sk-container-id-2 div.sk-parallel-item {display: flex;flex-direction: column;z-index: 1;position: relative;background-color: white;}#sk-container-id-2 div.sk-parallel-item:first-child::after {align-self: flex-end;width: 50%;}#sk-container-id-2 div.sk-parallel-item:last-child::after {align-self: flex-start;width: 50%;}#sk-container-id-2 div.sk-parallel-item:only-child::after {width: 0;}#sk-container-id-2 div.sk-dashed-wrapped {border: 1px dashed gray;margin: 0 0.4em 0.5em 0.4em;box-sizing: border-box;padding-bottom: 0.4em;background-color: white;}#sk-container-id-2 div.sk-label label {font-family: monospace;font-weight: bold;display: inline-block;line-height: 1.2em;}#sk-container-id-2 div.sk-label-container {text-align: center;}#sk-container-id-2 div.sk-container {/* jupyter's `normalize.less` sets `[hidden] { display: none; }` but bootstrap.min.css set `[hidden] { display: none !important; }` so we also need the `!important` here to be able to override the default hidden behavior on the sphinx rendered scikit-learn.org. See: https://github.com/scikit-learn/scikit-learn/issues/21755 */display: inline-block !important;position: relative;}#sk-container-id-2 div.sk-text-repr-fallback {display: none;}</style><div id=\"sk-container-id-2\" class=\"sk-top-container\"><div class=\"sk-text-repr-fallback\"><pre>LinearRegression()</pre><b>In a Jupyter environment, please rerun this cell to show the HTML representation or trust the notebook. <br />On GitHub, the HTML representation is unable to render, please try loading this page with nbviewer.org.</b></div><div class=\"sk-container\" hidden><div class=\"sk-item\"><div class=\"sk-estimator sk-toggleable\"><input class=\"sk-toggleable__control sk-hidden--visually\" id=\"sk-estimator-id-2\" type=\"checkbox\" checked><label for=\"sk-estimator-id-2\" class=\"sk-toggleable__label sk-toggleable__label-arrow\">LinearRegression</label><div class=\"sk-toggleable__content\"><pre>LinearRegression()</pre></div></div></div></div></div>"
      ],
      "text/plain": [
       "LinearRegression()"
      ]
     },
     "execution_count": 132,
     "metadata": {},
     "output_type": "execute_result"
    }
   ],
   "source": [
    "x_train,x_test,y_train,y_test = train_test_split(x,y,train_size=0.7,random_state=0)\n",
    "lr = LinearRegression()\n",
    "lr.fit(x_train,y_train)"
   ]
  },
  {
   "cell_type": "code",
   "execution_count": 133,
   "id": "70d4d339",
   "metadata": {},
   "outputs": [
    {
     "data": {
      "text/plain": [
       "-11827.733141795685"
      ]
     },
     "execution_count": 133,
     "metadata": {},
     "output_type": "execute_result"
    }
   ],
   "source": [
    "c = lr.intercept_\n",
    "c"
   ]
  },
  {
   "cell_type": "code",
   "execution_count": 134,
   "id": "a13becfe",
   "metadata": {},
   "outputs": [
    {
     "data": {
      "text/plain": [
       "array([  256.5772619 ,   -49.39232379,   329.02381564,   479.08499828,\n",
       "       23400.28378787,  -276.31576201])"
      ]
     },
     "execution_count": 134,
     "metadata": {},
     "output_type": "execute_result"
    }
   ],
   "source": [
    "m = lr.coef_\n",
    "m"
   ]
  },
  {
   "cell_type": "code",
   "execution_count": 135,
   "id": "c377e0df",
   "metadata": {},
   "outputs": [
    {
     "data": {
      "text/plain": [
       "array([ 2074.0645306 ,  8141.81393908, 18738.94132528,  7874.86959064,\n",
       "        6305.12726989,  2023.19725425, 26861.18663021, 14932.93021746,\n",
       "       10489.56733846, 16254.02800921, 11726.39324257, 11284.0092172 ,\n",
       "       39312.16870908,  5825.91078917, 12314.92042527,  3164.68427134,\n",
       "       15406.30681252,  4648.58167988,  5011.79585436,  6012.4796038 ,\n",
       "       15349.49652486,  8970.97358853,  8780.43012222, 34229.60622887,\n",
       "        6700.80932636, 26943.25864121, 27280.48004482, 15477.83837581,\n",
       "        8825.62578924, 34394.38378457, 10177.85528603,  3901.18161227,\n",
       "       15608.58732963, 29584.76846515, 29453.37088923, 28132.67012427,\n",
       "       10003.22154888, 33049.08935397,  3963.45204974, 25461.54857001,\n",
       "        5656.76892592, 27993.86773531,  7049.4472544 , 15100.38851758,\n",
       "        2552.92266861, 35458.5756605 , 15250.90732084,  3190.28483443,\n",
       "        1768.85441295, 10155.17603664,  9937.89476088, 11225.91583863,\n",
       "       16776.25691816,  4332.14442527,  1904.56473771,  4169.01766783,\n",
       "        5586.26152347,  6181.88067913, 26788.8656339 , 14126.13855797,\n",
       "       11861.37395532,  7811.00983646, 14043.16898219,  2761.62716836,\n",
       "       13245.886833  , 11768.08899683,  1979.53264953,  1004.70130715,\n",
       "       36800.01548491,  7337.39948485,  9016.87626313,  2197.43885099,\n",
       "       11522.76560606,  7722.68648352, 11766.49141567, 25673.41065575,\n",
       "       27094.55413975,  8386.55039897,  7851.02612612,   340.5541035 ,\n",
       "        4812.77154806,  7653.38621355,  3335.8737924 ,  8277.91415433,\n",
       "        1727.07582017,  4469.3512268 , 33273.43493881,  5960.10203273,\n",
       "       11514.72887612,  9076.67077562, 31445.7194256 , 11381.75279488,\n",
       "       11464.45517614,  4744.19913099,  6959.16143068,  5558.39697169,\n",
       "        5082.89311652,  9788.2815884 , 31360.93228849,  3182.21328435,\n",
       "       37708.34391043, 10814.52053521,  8936.63917176,  3082.15463971,\n",
       "       11928.53837714, 30612.08362018,  2768.14633037,  5859.36717165,\n",
       "       11271.63384986, 10014.30225729,  6043.73686629, 12975.42245732,\n",
       "       12066.96034099, 28052.15863473, 11361.56357043, 11060.29810116,\n",
       "       14348.98304548, 12312.23589186, 28147.75655535, 11823.51072484,\n",
       "       12848.87384573, 15178.13163272,  4197.13873747, 28308.19263972,\n",
       "        8971.99085308, 28732.62186124, 11179.06619869,  6579.03176313,\n",
       "       13059.30213716, 14726.65831226,  9783.6398503 ,  2444.05494314,\n",
       "        5724.67349993,  2786.36526883,  5696.67137344, -1003.82184963,\n",
       "       14605.31776434,  3995.13441381, 10503.83704955, 13075.10394921,\n",
       "       11394.53019512,  9261.88891647, 13608.73784577,  1042.57486857,\n",
       "       11340.66753684,  9273.62568527,  8281.21400296, 14977.26865395,\n",
       "       12554.43628217, 29821.10868267, 17471.58043595, 10459.61280091,\n",
       "        9389.23502709, 12782.30564709,  5788.18196996, 15693.65157911,\n",
       "        7291.38867849,  5634.70792056, 31414.11538842, 13661.85253666,\n",
       "       12990.82789567, 12116.96433071, 12483.56884527,  5245.19260841,\n",
       "        2720.97048488,  3967.45298094,  5831.18485508,   336.78003257,\n",
       "        8327.6083617 ,  7788.78193696,  5978.53780791, 14780.22108067,\n",
       "        4154.59712226,  7660.7596099 ,  4986.40913178,   808.63142297,\n",
       "        6347.28680981,  6028.99252197,  3002.31581222, 30358.06082481,\n",
       "       10242.8271406 , 12160.459422  , 36713.30683683,  5484.52486596,\n",
       "       13900.01813071,  1032.83264035,  7075.58814557, 25622.72563058,\n",
       "       10388.5347597 ,  5748.21820814, 15638.72505346,  8412.71678181,\n",
       "       33607.43410022, 12873.4767783 ,  9089.752017  , 11495.39625664,\n",
       "       29552.08877794,  4833.05771099,  8535.10872516, 10379.54084243,\n",
       "        2480.53742917, 33644.40927286, 26048.49780558, 12539.77833076,\n",
       "        7288.62030409,  6523.97395347, 33590.95177474, 34304.29013204,\n",
       "       10903.83077465, 28227.37382203, 33047.75080641,  4484.39001642,\n",
       "       33279.27378584,  9131.498238  , 33409.39957307, 26078.36522976,\n",
       "       13348.90616834, 12332.40769064,  5643.77644808, 15413.40505405,\n",
       "       10751.99223385,  4512.13100449, 14657.52748835, 16829.95674466,\n",
       "        2761.72430528,  7501.05082023, 34047.62899298, -2007.51465386,\n",
       "        4961.00911327, 11317.6348311 , 14807.90116752,  9435.27403931,\n",
       "        -174.72351449, 37372.501456  ,  3762.34340068, 15752.87879474,\n",
       "        4533.80783189,  2098.27922285, 10611.76084205, 11035.74435668,\n",
       "       15662.70306033,  8452.46307921, 38420.53380273, 10153.96721241,\n",
       "       11949.02953257,  4513.62352998, 12416.5499223 , 26496.89917632,\n",
       "        9790.09769801,  6000.9083136 , 10006.79989424, 25365.92932362,\n",
       "       10336.38146363, 10881.45558102,  8959.58819878, 15429.29849108,\n",
       "        3007.7593242 , -1527.1369542 ,   595.0082712 , 28619.70924858,\n",
       "        5735.13445102, 13970.64440894,  3305.77699221, 34409.46642665,\n",
       "        3043.17108273,  9053.67241541,  8038.69942437, 13921.55865666,\n",
       "        8610.49602819, -1661.86948091,  7849.37339028, 12779.93729567,\n",
       "       11037.97419828,  5255.92758077, 27495.79302831, 17224.77382277,\n",
       "       18593.63259562,  2746.80146262,  5275.27563221, 11085.22524556,\n",
       "        6570.01359126,  8302.25598465,  5367.40939532, 13799.54616716,\n",
       "        2045.94198386,  7402.89767646,  3764.4410032 ,  1760.64721451,\n",
       "        9363.07450189,  6140.38557298,  1314.37779181, 11671.78227335,\n",
       "        8736.5725223 , 39286.25467818, 13249.36687172, 30803.50766988,\n",
       "       24424.72359513, 13298.04012908,  7847.50609887,  4020.34673658,\n",
       "        6470.53340058,  8103.13157642, 17572.38934907,  5463.80240816,\n",
       "        1720.72220413,  4483.63471429, 11235.6798057 ,  4871.80772605,\n",
       "        9599.55423169, 10504.32504824, 10086.4072409 , 11529.5329541 ,\n",
       "       35005.12140493, 10147.62707077, 10703.7386335 , 28556.89108092,\n",
       "        1869.72444194,   875.61483071, 10028.75005365,  4457.93180971,\n",
       "        6874.73842656,  3154.99749978,  7407.75407908, 23047.8677789 ,\n",
       "       11941.32287211,  5679.85229684,  3962.30629893, 17379.22814439,\n",
       "        7399.8475945 ,  1220.25651548,  1129.73035709,  7875.37201881,\n",
       "        8723.40864086,  6913.75960144,  9128.65976282,  8758.06405861,\n",
       "       11131.81608651, 34937.02999535,  5430.86984699,  3487.3144824 ,\n",
       "       10685.02032677,  6036.76635438,  8038.75071512,  9348.7407623 ,\n",
       "        9517.12218624, 10281.87645397,  6180.09405404,  9625.27921867,\n",
       "       27611.14409316, 22788.54080536, 10608.81341111,  8996.37360704,\n",
       "        -558.16181714, 24628.92851588,  5865.38954851,  2007.1668902 ,\n",
       "        5697.77720309, 28148.35347362, 16246.80713907, 38680.33998848,\n",
       "       16153.55207819, 14308.20748622,  3608.9664882 , 25485.86708084,\n",
       "       10486.72886328, 13810.33483707, 13482.47816538,  3816.33829804,\n",
       "        9835.63469515, 38393.62988914, 25686.53285693,  4480.81828534,\n",
       "       14174.70048894, 31679.26284821,  6536.16893229, 28213.86609471,\n",
       "        6511.88155615, 11748.28032857,  8378.82241274, 12138.97948989,\n",
       "        3899.8430647 , 12455.56775743, 13407.92219028,  4314.22620068,\n",
       "       12606.33253837, 16817.53373587, 25600.61877905, 13254.55530136,\n",
       "       27856.96498955, 26774.1696515 ,  8299.11875315, 11924.78780417,\n",
       "       36037.02555559, 11753.51147713,  9612.83188791, 11739.85825097,\n",
       "       10857.95138337,  8260.13988411,  5201.97267194,  1414.13238067,\n",
       "       27489.15709534, 11915.98981091, 13498.35913048, -1151.92131812,\n",
       "        7634.13406195,  5086.2804916 , 13266.85964902, 10251.31617551,\n",
       "        8209.36805295, 31277.78662118,  9396.65937063,  2914.69041458,\n",
       "       11579.02586027, 11369.15838247,  7002.34702162, 14286.69121486,\n",
       "        9886.13408567, 11560.46014711, 12107.01166543,  5594.18640499,\n",
       "        3102.26981212, 40510.36178217, 13233.33826677, 14972.36619052,\n",
       "        9093.48440766,  5307.31451251, 10035.94877401,  4833.05771099,\n",
       "        9163.14783934, 13681.31852877,  3408.34583782,  3668.15202357,\n",
       "        9130.39240835,  4614.12170568,  5867.27324315,  9141.0565233 ,\n",
       "        5619.25739267, 26202.46161277,  4336.10619194,  5337.72298523,\n",
       "        5694.49405967,  9241.05753909,  4798.70417681, 14813.45552543,\n",
       "       16596.10164952, 26512.17612842, 35981.64750157,  1959.90820619,\n",
       "       36628.00590197,  3298.04607716, 15743.67103696,  7010.02746994,\n",
       "        6347.73481996, 30232.95082653, 13712.03943065, 11112.45139724,\n",
       "        8252.63752105,  2513.08863012, 16022.56454881, 30459.9171821 ,\n",
       "        -427.99018373,  8906.44312983,  9669.66904945,  8958.77368717,\n",
       "       14004.86476893,  5395.14077291,  4647.69485912, 12769.68023106,\n",
       "       26256.35833457, 17109.23881501, 29301.61601095, 16148.84338277,\n",
       "        8556.74931687, 10884.76304641, 15069.21096634, 11742.80568191,\n",
       "       11463.29020438, 24798.33579241, 32935.05127763,  9447.01284923,\n",
       "       11263.82198647, 27058.19135351,  3727.17273344,  6235.37996105,\n",
       "        5634.34788611, 11375.81271239, 38459.90260383, 33433.3327724 ,\n",
       "       27019.20779653, 14322.90346862, 35753.77813666, 39828.81704797,\n",
       "        2699.20978031, 26544.92005876,  5801.67791461, 36691.80475494,\n",
       "        5617.15382896, 11295.79287081,  2493.45312458, 35065.32086295,\n",
       "       15536.91747116,  7518.89601523, 12487.81679279,  5146.29149725,\n",
       "       10989.0257861 , 29309.49211747,  7929.03120369, 25165.38545566,\n",
       "       11350.99073475,  -475.42203046, 33144.5020946 , 11932.14914167,\n",
       "        6894.95886927, 10950.8802387 , 28374.49301829, 10807.39484445,\n",
       "       -1064.45853761,  4115.66609311,  8268.49123537,  3784.09414906,\n",
       "        2774.7626293 , 11855.25774512,  8177.53860723, 33326.87290643,\n",
       "       13311.213621  ,  3368.65061653,  5990.26307605, 31353.20430226,\n",
       "       10868.45997592,  1608.81535536, 36756.69056015,  9579.68800196,\n",
       "       37118.83359406,  6737.15570938, 14266.57428335,  7277.05276671,\n",
       "       28664.76681887,  4180.8442388 , 17098.94258587, 11755.05067281,\n",
       "        9021.81454919, 36337.66492945, 13409.58694339, 18326.21509106,\n",
       "       15804.69637834, 38144.49443262, 12048.36352931, 31174.86242905,\n",
       "        9060.68719286,  4092.43208616,  9289.88436131, 12449.75219373,\n",
       "       12073.6146709 ,  9113.53240811, 15192.82761512,   160.75522003,\n",
       "        6921.21946022, 11490.29535344,  4314.73552513, 13438.47878328,\n",
       "       32539.6930199 , 10717.0621359 , 24929.94531866, 26624.25073151,\n",
       "       14294.43414719, 14288.99239433, 14372.04877609,  6770.64009929,\n",
       "       31205.7216261 , 15083.41098975, 30158.82528863,  6200.01942589,\n",
       "        1774.43309283, 29747.46460692,  7953.685427  , 32171.69491421,\n",
       "       33427.66435771, 32748.21650557,  3092.17933212,  9141.18500956,\n",
       "       10111.37020792,  9824.90047942, 31549.84065928, 29998.83207722,\n",
       "        7646.49792864, 30873.89537255, 11157.72549685,  8186.36855919,\n",
       "        4408.84133334, 30038.08221719, 11471.82312792, 15727.56734133,\n",
       "       16383.80261583,  7216.76849643,  3699.44217986,  5559.23894873,\n",
       "       31566.87581596,  5889.9466349 ,  6328.93270344, 11287.53028309,\n",
       "       14483.10097743,  7206.65053103, 10462.63011798, 15844.7261424 ,\n",
       "       11202.6972998 ,  3837.37438591,  5123.40984062, 28578.1646108 ,\n",
       "       35209.07741918, 10410.29798001,  9695.28848994,  7600.61853736,\n",
       "       10526.82486419,  7367.31527095, 17310.0718288 , 29770.30940228,\n",
       "       14635.81555879, 12267.0564496 ,  1345.6350543 , 15089.69033911,\n",
       "        2118.44399426,  9053.17897216, 13592.22826951, 14556.23962882,\n",
       "        7350.61706384, 13969.7838365 ,  6316.87165544, 11433.95173869,\n",
       "        9861.8521541 ,  4868.79429288,  9453.53569669,  2213.96975302,\n",
       "       14310.15331917,  3269.78209179,  2457.26343368,  7220.17468154,\n",
       "       15676.58535511,  8709.45135892, 11537.76347204, 31453.50069629,\n",
       "        5892.44470966,  1606.04893851, 16092.29109007,  7179.89432464,\n",
       "       12098.79668299, 11546.25196496, 11024.43385918,  8782.46341424,\n",
       "       12067.34662375, 16686.95993848,  7561.89890035, 11550.23408612,\n",
       "       36562.98492885,  5247.03713852,  7488.80882552, 40162.43654089,\n",
       "        9980.72073046,  4842.04570325, 12197.3512341 ,  3883.85730975,\n",
       "       39129.25884243, 33354.87792557, 14737.47640514, -1020.31179186,\n",
       "       13598.22925322, 30824.51337969, 29199.50654508, 11164.40039591,\n",
       "        5418.27543458,  2088.52527934, 14678.31343263,  3383.02748811,\n",
       "        7092.1833581 ,  2041.64891063, 29497.33148371, 32647.67654606,\n",
       "       34788.94202753, 12711.11890093, 19045.09044796,  7757.19595318,\n",
       "       39023.90990712,  9225.09100509,  3518.36647621, 12773.18166292,\n",
       "        8205.09754257, 36856.66567118, 11326.07162019,  7960.73237778,\n",
       "        4249.3570333 ,  2898.02978921,  6113.87972482, 12992.03795697,\n",
       "       29178.74316365, 11407.06997487,  6155.49528738, 27481.9362252 ,\n",
       "       30491.18323106, 11411.20700908,  2582.23116932, 12710.90360869,\n",
       "       34520.23286023, 33995.50704623, 29536.27580879,  2644.55296491,\n",
       "       12245.7057242 ,  7713.04262932,  2193.9413866 ,  3721.18700322,\n",
       "        8522.64062682,  9667.49831378,  9419.15959966,  6859.81640791,\n",
       "        3388.60733771,  9754.63833418, 14595.61949213,  9533.86324333,\n",
       "        5516.87834761, 16087.26641111,  8140.34022361, -1925.08853342,\n",
       "       12003.19114562, 13325.59049258, 33278.14832215, 27052.11017809,\n",
       "       11616.66711686,  8352.99980838, 13631.64395543, 29166.67739155,\n",
       "       17533.71828863,  6263.11615765, 12084.95441291,  9311.23580717,\n",
       "       29422.74753735,  8334.82923184, 31869.23826103, 13462.86153724,\n",
       "        4804.96512923, 17522.07390146, 28317.90490297,  -194.59342968,\n",
       "         331.41840404,  3263.57535894,  6299.94665545, 27175.36269388,\n",
       "        4339.76180018, 10203.29446907,  7721.03550679, 12060.83924441,\n",
       "       26650.28934856, 15723.30058378, 35379.92237391, 31854.7942175 ,\n",
       "        6875.61570421, 34026.63582246, 14314.80614484,  7246.99595506,\n",
       "        7518.97989239, 10246.57947268,  9296.37551589, 12387.47999714,\n",
       "        9139.22821795, 12185.24629748,  7044.17098013,  3819.29061535,\n",
       "       30588.65313102,  3325.59644066,  8583.84281638,  6823.77115184,\n",
       "        3385.35292217, 12687.32304169,   643.29476534,   555.58086997,\n",
       "       12302.54443237, 16411.99819216,  8345.62183304, 10026.41869457,\n",
       "       35681.52730849, 35438.7174606 , 13315.48895038,  6158.30755041,\n",
       "        1992.25658684, 12474.86234593, 33056.6821723 , 13356.50098038,\n",
       "       35453.02299432, 14015.61861869, 10011.0958963 , 12553.24878372,\n",
       "        4832.8766969 ,  5189.33241335,  6975.05786391, 16219.65859383,\n",
       "       12136.47597056,  8955.88539834, 34217.35169486,  3016.29734875,\n",
       "       24683.13870549, 38421.16354743, 12600.0002481 , 10644.80327789,\n",
       "       16749.16571975, 34831.9650687 , 34877.5449832 ,  8247.2283546 ,\n",
       "        9941.60165986, 12266.29301409, 34203.01181562, 14889.57680482,\n",
       "        4023.79366686,  6592.19564458,  6762.4019646 , 16260.15496343,\n",
       "       35577.74547275,  6526.02006681, 12163.89860445, 36173.52090744,\n",
       "        9279.79952432,  4260.14963451,  9763.52467789,  4639.60484472,\n",
       "        6922.95210575, 12969.7550139 ,  4256.73969657, 12430.70192733,\n",
       "       15777.35011379, 30773.46708298, 11336.40956576, 33606.53946427,\n",
       "       14480.29750087,  8522.19179267, 32455.51011045, 30338.68728169,\n",
       "       12031.10154357, 31277.70274402, 10589.56718453,  3267.02739023,\n",
       "       10486.27634367, 11817.9016669 , 11018.86648151, 30602.13536665,\n",
       "       10627.82575006,  5543.75208159,  9979.28094743,  2024.40731556,\n",
       "       36680.24014639,  7007.22815929,  3594.5490699 ,  2707.91083509,\n",
       "        7220.70026195, 29148.27337663, 27048.06160544, 13779.98868113,\n",
       "        1249.95253605, 29607.93237133, -1316.43322594,  3836.21602843,\n",
       "       26051.33452165, 11557.145869  ,   198.44776737,  6129.24544046,\n",
       "        1080.53148314, 14633.39591662, 14243.30696952, 10577.01100155,\n",
       "        3684.11562875, 29818.68446151, 32645.16083099,  6814.62074089,\n",
       "       17990.69760509,  9501.45430502, 13096.05168663, 10131.77648372,\n",
       "       10314.27461209,  3059.58352207, 10947.36144854,  9175.55641866,\n",
       "        5794.96602322, 26970.5619884 , 10579.87748415,  5935.06772785,\n",
       "       32505.66662638, 13113.41966313,  2006.18837709, 15066.19364927,\n",
       "       10464.17148585,  7117.77806354,  2075.48695532,  5444.3979288 ,\n",
       "       26309.98534611,   498.36583523,   -53.00017083, 31878.55790341,\n",
       "         843.33151719, 13535.24091903,  6425.419617  ,  9657.95890588,\n",
       "       36864.03879134,   937.11209112, 40474.11036389, 11641.54038524,\n",
       "       14929.85130408, 33731.88094337, 10630.82488483,  4602.14460222,\n",
       "        3285.00775314, 31519.53149568, 14184.46131254,  3881.66997242,\n",
       "        2535.01446757, 13891.6193726 , 26794.30663013, 31193.2623816 ,\n",
       "        7345.51499093,  6130.80303308, 13096.25777931, 12925.94625636,\n",
       "       12765.64430125, 11624.73866694, 37091.3776533 , 10040.56284824,\n",
       "       12742.06373425,  5025.10451419, 10661.09402373,  5348.7667013 ,\n",
       "        7593.42274582, 28002.53724231,  5122.59866875, 13176.62524711,\n",
       "       14542.75739319,   983.29805392, 23236.94762067,  3614.95052669,\n",
       "       11139.64465512,  6085.25078246,  4411.74291809,  2376.39480234])"
      ]
     },
     "execution_count": 135,
     "metadata": {},
     "output_type": "execute_result"
    }
   ],
   "source": [
    "y_pred_train = lr.predict(x_train)\n",
    "y_pred_train"
   ]
  },
  {
   "cell_type": "code",
   "execution_count": 136,
   "id": "25447c67",
   "metadata": {},
   "outputs": [
    {
     "data": {
      "image/png": "[encoded data removed]",
      "text/plain": [
       "<Figure size 640x480 with 1 Axes>"
      ]
     },
     "metadata": {},
     "output_type": "display_data"
    }
   ],
   "source": [
    "plt.scatter(y_train,y_pred_train)\n",
    "plt.xlabel(\"Actual charges\")\n",
    "plt.ylabel(\"Predicted charges\")\n",
    "plt.show()"
   ]
  },
  {
   "cell_type": "code",
   "execution_count": 137,
   "id": "66a62485",
   "metadata": {},
   "outputs": [
    {
     "data": {
      "text/plain": [
       "0.7306840408360218"
      ]
     },
     "execution_count": 137,
     "metadata": {},
     "output_type": "execute_result"
    }
   ],
   "source": [
    "r2_score(y_train,y_pred_train)"
   ]
  },
  {
   "cell_type": "code",
   "execution_count": 138,
   "id": "2f9c438e",
   "metadata": {},
   "outputs": [
    {
     "data": {
      "text/plain": [
       "array([11051.54909755,  9821.28110689, 37867.57220923, 16125.70579228,\n",
       "        6920.27132517,  3879.38549816,  1448.91928088, 14390.17797974,\n",
       "        9022.95151353,  7458.83371884,  4584.60125463, 10309.9886336 ,\n",
       "        8693.03891958,  4085.25393494, 27551.60737718, 11151.0640722 ,\n",
       "       11243.0536825 ,  5962.9521121 ,  8181.9015666 , 26750.7993431 ,\n",
       "       33448.59842228, 14350.03320383, 11672.89478465, 32235.7832204 ,\n",
       "        4326.07702625,  9096.53607025,  1045.25196369, 10177.76672094,\n",
       "        4042.60346751, 10384.28681219,  9035.98983755, 40123.71002379,\n",
       "       15507.20819083, 13678.264976  , 24481.97362849,  5059.21988589,\n",
       "       12889.80609711, 30333.92625689, 33301.25091403,  3431.35787088,\n",
       "        3941.81614597,  4203.90901434, 30219.19050725, 39245.56885373,\n",
       "       27762.83744249,  4994.74188765, 11042.48621304,  7760.15047885,\n",
       "        3569.09734756, 10613.61535955,  5544.95921408,  3397.80923785,\n",
       "       32701.67144343, 38285.57836702, 16290.50463759,  6965.99677468,\n",
       "        5895.27536963,  9364.94083823,  9395.1780384 , 11722.13868077,\n",
       "        1611.87873326, 38750.4981005 , 15296.11225478, 11708.42958487,\n",
       "       14076.39653066, 13904.28564489, 25798.46519738, 31953.12169371,\n",
       "        1168.25915489, 10184.5995492 , 12273.00414884, 11867.15734569,\n",
       "       24808.10644113, 15908.53043993, 11198.67421883, 12631.50869281,\n",
       "        6433.71238434,  9915.55343233, 29953.19794316, 38768.07351788,\n",
       "       12011.54405755, 37253.64166612,  4056.21325429,  9255.50826428,\n",
       "       34537.73817683, 28976.62623495,  8444.02316285,  4738.69241453,\n",
       "       11959.22562859, 30006.0695852 , 10041.58386562, 11243.48874027,\n",
       "        8183.6075869 ,  9280.51490529,  8255.40224617,  7239.23538241,\n",
       "       35731.00350944, 32878.29978853,  7591.7717691 , 14921.91368481,\n",
       "        4184.53547122,  8690.01064385,  6619.75457992, 31535.59819898,\n",
       "       32775.00677547,  1887.67848916,  8933.68024017,  6520.27249906,\n",
       "       14475.77105663, 36880.82790297, 10252.51955517, 10775.16399139,\n",
       "       10192.95246113, 26581.47470665, 39936.28907748,  8453.03671416,\n",
       "         143.08142864,  8874.82383918, 15117.85425873,  9557.08594807,\n",
       "       35275.59070316,  7270.62037452, 16826.50981439,  9572.8088055 ,\n",
       "        8159.95902395,  2952.65859719, 32706.51413703, 31283.9896012 ,\n",
       "       39216.89699401,  5362.49911669,  9675.40479836,  3778.85297694,\n",
       "        7946.39718647,  8585.02883773, 31341.17050506, 29551.7714624 ,\n",
       "       29853.91861524,  9151.88904567, 32625.66390263,  3229.01239018,\n",
       "        3529.93652932, 11054.17156002, 13442.38216447, 12761.80223436,\n",
       "        5363.70249634, 15875.56674406, 15252.72853146,  2382.17016287,\n",
       "        -120.56014234, 10834.07802124,  7372.12214193, 31759.88622234,\n",
       "       12314.86913452,  2548.30390645,  6284.28252705,  8170.0107525 ,\n",
       "        4285.24015268,  2331.14818812, 11414.21888159, 12551.18010753,\n",
       "        7208.95663304, 16615.95420641, 11792.56220606, 13920.69808423,\n",
       "        3134.30793579,  7262.13973297, 22758.38813544,  7596.99822972,\n",
       "        5401.65993492,  5339.75438707,  6641.09944767,  5142.27041   ,\n",
       "        9983.03913716,  5526.89132472,  5628.18992827,  6975.95618531,\n",
       "        3673.17907317,  5521.32735633, 37913.25218948,  1337.01243212,\n",
       "       12636.06438156,  8935.78276524, 13661.56267036,  5572.770716  ,\n",
       "        5181.38538205, 36214.23931831,  4207.49996636,  1896.75580314,\n",
       "       15163.16594007, 12674.02182014, 34823.20434979,  5093.20670396,\n",
       "        5580.90282376, 31320.99694717,  5982.46375195,  1940.59597738,\n",
       "        8389.18364163, 10016.84576515,  8238.45168712,  5687.97489766,\n",
       "       13133.993244  , 38538.79843345, 13749.62605459, 28607.07797491,\n",
       "        6685.39503417, 35610.2777963 ,  3716.13611211, 12131.97274228,\n",
       "        9356.80352592,  6339.94803517, 11268.82158683, 14519.98276598,\n",
       "        5175.63113265,  4233.99203814,  7768.5658748 ,  1150.93881984,\n",
       "        7861.51707835,  4401.34365822, 13351.6815701 ,  4312.6173173 ,\n",
       "       10007.10646576,  7274.06437597,  9167.81641515,  2307.24223958,\n",
       "       13115.48905979, 16739.15126554, 15287.81532153, 10516.20091624,\n",
       "        5706.41694356,  2453.74757235,  2105.41152789, 13376.27751148,\n",
       "       14339.33209654,  5021.89418573,  4090.605953  ,  9366.33184625,\n",
       "        9969.15202337, 27902.13744062,  7572.78791802, 10543.34735666,\n",
       "        6174.31283586, 29537.11622517, 11027.94086667,  7457.00641596,\n",
       "       10225.18823673, 12176.62074648,  2939.88516441, 10785.5019008 ,\n",
       "        1443.73866643,  6998.45741682, 28534.01786505, 38460.70771961,\n",
       "        6225.11287288,  8374.92523275,  2386.63715545,   305.52277009,\n",
       "       10407.09161901,  4362.55365462,  4960.62107139,  2662.94916464,\n",
       "        7249.10943879, 33132.60876475, 37964.64601751, 14795.4925882 ,\n",
       "        8191.23299164, 16000.85775643, 33002.87197448,  9520.82908522,\n",
       "       33323.6218328 ,  3516.92369698, 30497.30098573,  8044.20793611,\n",
       "       14191.55955407,  4083.10066112, 32268.03153529,  8315.02063095,\n",
       "       11483.73451116,  9510.21374527,  4115.91551624, 12660.02379304,\n",
       "       11717.00935707,  8354.17363399, 13269.77614371,  2699.20978031,\n",
       "       10542.22785417,  5391.53803822, 11313.67089224, 31398.88972707,\n",
       "       10029.81495966,  1118.21159472,   462.52270438, 39674.38015203,\n",
       "        9676.2207617 ,  7081.42950834, 13999.68415448, 13421.82776838,\n",
       "       26976.22819473,  7100.7475948 ,  6788.44279001, 12033.45246932,\n",
       "        2786.36526883,  3902.46962572, 24859.29396183, 26090.84463032,\n",
       "       13371.81813565,  3164.31052787,  5117.58945791,  9325.3139586 ,\n",
       "       12404.934023  , 23317.59720695, 30625.80462982, 10046.65063794,\n",
       "       23804.49406862,  2804.50033014, 11550.33636023,  7549.77464787,\n",
       "        8233.25736365,   312.94242569,  7720.18671702, 35401.11202663,\n",
       "        6152.78016128,  6237.66443531,   178.89028134, 10901.70768044,\n",
       "        6750.59209883,  9992.98880624, 38764.63808826, 27466.58793525,\n",
       "       11489.14198588, 35484.16547957, 15039.21254017,  6810.42408411,\n",
       "       11015.353549  ,  6839.24282704, 36512.17018034,  6045.00741789,\n",
       "       11075.16473053,   741.96608741, 24186.22593789,  1881.15932715,\n",
       "       34245.135946  , 11379.34404185,  1787.47141685, 32018.68078654,\n",
       "        6644.72832713,  5200.52497017, 37952.77965645,  2171.21921984,\n",
       "        9595.04338665,  2650.53107838, 12806.89011534,  1008.0849294 ,\n",
       "       11113.81326429,  7092.09772183, 36343.11043514,  7160.77113975,\n",
       "       30438.75625726, 29472.1875026 ,  7100.76722883, 10790.23315907,\n",
       "        1879.90465675,  2200.37960027,  3793.92758918, 12706.65566117,\n",
       "       37039.77367021,  9716.69560709,   345.17579449, 11387.82123255,\n",
       "        5036.80429065,  9779.98465515,  5576.16518582,  7260.90814745,\n",
       "        4311.38104385, 28280.88564325,  4363.51594298,  -921.56882455,\n",
       "       33139.88333244, 12910.28546987, 35733.85862246,  9841.66334273,\n",
       "        7663.70159627,   -94.4834943 ,  2560.96139226, 11527.50523772,\n",
       "        5669.76181684,  3293.09776754, 12120.72252044,  7743.17735694,\n",
       "        6920.9128887 ,  5459.93977214,  3049.37781558, 31786.79912085,\n",
       "        3518.32063003,  8595.19234733,  4796.86509127, 13024.5060374 ,\n",
       "       14691.59701387,  7163.95913996, 26454.5855911 , 14277.02407734,\n",
       "       17354.84539043, 11476.70520069])"
      ]
     },
     "execution_count": 138,
     "metadata": {},
     "output_type": "execute_result"
    }
   ],
   "source": [
    "y_pred_test = lr.predict(x_test)\n",
    "y_pred_test"
   ]
  },
  {
   "cell_type": "code",
   "execution_count": 139,
   "id": "d277a5a9",
   "metadata": {},
   "outputs": [
    {
     "data": {
      "image/png": "[encoded data removed]",
      "text/plain": [
       "<Figure size 640x480 with 1 Axes>"
      ]
     },
     "metadata": {},
     "output_type": "display_data"
    }
   ],
   "source": [
    "plt.scatter(y_test,y_pred_test)\n",
    "plt.xlabel(\"Actual charges\")\n",
    "plt.ylabel(\"Predicted charges\")\n",
    "plt.show()"
   ]
  },
  {
   "cell_type": "code",
   "execution_count": null,
   "id": "e5c6c507",
   "metadata": {},
   "outputs": [],
   "source": []
  }
 ],
 "metadata": {
  "kernelspec": {
   "display_name": "Python 3 (ipykernel)",
   "language": "python",
   "name": "python3"
  },
  "language_info": {
   "codemirror_mode": {
    "name": "ipython",
    "version": 3
   },
   "file_extension": ".py",
   "mimetype": "text/x-python",
   "name": "python",
   "nbconvert_exporter": "python",
   "pygments_lexer": "ipython3",
   "version": "3.11.5"
  }
 },
 "nbformat": 4,
 "nbformat_minor": 5
}
