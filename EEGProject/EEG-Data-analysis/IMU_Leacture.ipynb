{
 "cells": [
  {
   "cell_type": "code",
   "execution_count": 1,
   "id": "ddc403af",
   "metadata": {},
   "outputs": [
    {
     "name": "stdout",
     "output_type": "stream",
     "text": [
      "Requirement already satisfied: mvnx in /Users/asheshlalshrestha/anaconda3/lib/python3.11/site-packages (0.2)\n",
      "Requirement already satisfied: numpy in /Users/asheshlalshrestha/anaconda3/lib/python3.11/site-packages (from mvnx) (1.24.3)\n",
      "Collecting argparse (from mvnx)\n",
      "  Using cached argparse-1.4.0-py2.py3-none-any.whl (23 kB)\n",
      "Installing collected packages: argparse\n",
      "Successfully installed argparse-1.4.0\n"
     ]
    }
   ],
   "source": [
    "!pip install mvnx\n",
    "import numpy as np\n",
    "import mvnx\n",
    "from scipy.signal import butter, filtfilt"
   ]
  },
  {
   "cell_type": "code",
   "execution_count": 2,
   "id": "54e3a8ca",
   "metadata": {},
   "outputs": [],
   "source": [
    "class LoadMvnx:\n",
    "    def __init__(self, filename):\n",
    "        self.data = mvnx.load(filename)\n",
    "        self.frameRate = 60\n",
    "        self.segments = list(self.data.segments.values())\n",
    "        self.raw_tc = list(self.data.timecode)\n",
    "        self.pc_tc = list(self.data.ms)\n",
    "        self.overall_output = {}\n",
    "        self.run()\n",
    "\n",
    "    def run(self):\n",
    "        for i in range(len(self.raw_tc)):\n",
    "            output = {}\n",
    "            output['smpte_tc']=self.raw_tc[i]\n",
    "            output['pc_tc']=self.pc_tc[i]\n",
    "            output['orientation'] = self.get_seg_info(i,'orientation')\n",
    "            output['position'] = self.get_seg_info(i,'position')\n",
    "            output['velocity'] = self.get_seg_info(i,'velocity')\n",
    "            output['acceleration'] = self.get_seg_info(i,'acceleration')\n",
    "            output['angular acceleration'] = self.get_seg_info(i,'angular acceleration')\n",
    "            output['angular velocity'] = self.get_seg_info(i,'angular velocity')\n",
    "            self.overall_output['frame_'+str(i)] = output\n",
    "\n",
    "    def filter(self,data):\n",
    "        Fc = 6  # Desired effective cutoff frequency. (Winter, 2009)\n",
    "        p = 2  # Number of filter passes\n",
    "        Wc = Fc / np.power((2 ** (1 / p)) - 1,\n",
    "                           1 / 4)  # Actual cutoff frequency to be applied after accounting for number of passes (Winter, 2009)\n",
    "        Wn = Wc / (self.frameRate / 2)  # Cutoff frequency over half the original frequency\n",
    "        b, a = butter(2, Wn, 'low')  # Butterworth filter coefficients\n",
    "        return filtfilt(b, a, data)  # Applying Butterworth filter on acceleration\n",
    "\n",
    "    def get_seg_info(self,frame,info):\n",
    "        if info == 'orientation': data = self.data.orientation\n",
    "        elif info == 'position': data = self.data.position\n",
    "        elif info == 'velocity': data = self.data.velocity\n",
    "        elif info == 'acceleration': data = self.data.acceleration\n",
    "        elif info == 'angular velocity': data = self.data.angularVelocity\n",
    "        elif info == 'angular acceleration': data = self.data.angularAcceleration\n",
    "        else: return None\n",
    "        info_dict = {}\n",
    "        #data = self.filter(data)\n",
    "        if info == 'orientation': info_arr = np.reshape(data, (len(data), 23, 4))\n",
    "        else: info_arr = np.reshape(data, (len(data), 23, 3))\n",
    "        index = 0\n",
    "        for segment in self.segments:\n",
    "            info_dict[segment] = list(info_arr[frame,index,:])\n",
    "            index+=1\n",
    "        return info_dict\n",
    "\n",
    "    def extract_info(self):\n",
    "        return self.overall_output, len(self.overall_output)\n",
    "\n",
    "    def extract_segment_names(self):\n",
    "        return self.segments"
   ]
  },
  {
   "cell_type": "code",
   "execution_count": 5,
   "id": "89478c70",
   "metadata": {},
   "outputs": [
    {
     "name": "stdout",
     "output_type": "stream",
     "text": [
      "number of frame: 144\n",
      "segment names: ['Pelvis', 'L5', 'L3', 'T12', 'T8', 'Neck', 'Head', 'RightShoulder', 'RightUpperArm', 'RightForeArm', 'RightHand', 'LeftShoulder', 'LeftUpperArm', 'LeftForeArm', 'LeftHand', 'RightUpperLeg', 'RightLowerLeg', 'RightFoot', 'RightToe', 'LeftUpperLeg', 'LeftLowerLeg', 'LeftFoot', 'LeftToe']\n",
      "start_position_righthand: [2.784659, 1.315917, 0.393573]\n",
      "last_position_righthand: [2.470741, 1.786028, 1.143362]\n"
     ]
    }
   ],
   "source": [
    "loader = LoadMvnx(\"/Users/asheshlalshrestha/Desktop/Datanal/EEGProject/lightlift-5.mvnx\")\n",
    "output, length = loader.extract_info()\n",
    "print('number of frame:',length)\n",
    "print('segment names:',loader.extract_segment_names())\n",
    "print('start_position_righthand:',output['frame_0']['position']['RightHand'])\n",
    "print('last_position_righthand:',output['frame_'+str(length-1)]['position']['RightHand'])"
   ]
  },
  {
   "cell_type": "code",
   "execution_count": null,
   "id": "5c8ea4fe",
   "metadata": {},
   "outputs": [],
   "source": []
  }
 ],
 "metadata": {
  "kernelspec": {
   "display_name": "Python 3 (ipykernel)",
   "language": "python",
   "name": "python3"
  },
  "language_info": {
   "codemirror_mode": {
    "name": "ipython",
    "version": 3
   },
   "file_extension": ".py",
   "mimetype": "text/x-python",
   "name": "python",
   "nbconvert_exporter": "python",
   "pygments_lexer": "ipython3",
   "version": "3.11.5"
  }
 },
 "nbformat": 4,
 "nbformat_minor": 5
}
